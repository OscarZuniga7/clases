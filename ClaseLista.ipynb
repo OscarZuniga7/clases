{
  "cells": [
    {
      "cell_type": "markdown",
      "metadata": {
        "colab_type": "text",
        "id": "view-in-github"
      },
      "source": [
        "<a href=\"https://colab.research.google.com/github/OscarZuniga7/clases/blob/main/ClaseLista.ipynb\" target=\"_parent\"><img src=\"https://colab.research.google.com/assets/colab-badge.svg\" alt=\"Open In Colab\"/></a>"
      ]
    },
    {
      "cell_type": "code",
      "execution_count": null,
      "metadata": {
        "id": "HWEtdV93em9A"
      },
      "outputs": [],
      "source": [
        "# Crear una lista con elementos\n",
        "mi_lista = [1, 2, 3, 4, 5]\n",
        "print(mi_lista)\n"
      ]
    },
    {
      "cell_type": "code",
      "execution_count": null,
      "metadata": {
        "id": "uhJZjXRFesBE"
      },
      "outputs": [],
      "source": [
        "# Acceder a elementos individuales usando índices\n",
        "mi_lista = [10, 20, 30, 40]\n",
        "print(mi_lista[0])  # 10\n",
        "print(mi_lista[-1])  # 40 (último elemento)\n"
      ]
    },
    {
      "cell_type": "code",
      "execution_count": null,
      "metadata": {
        "id": "R8W73zVlexGD"
      },
      "outputs": [],
      "source": [
        "# Usamos append() para añadir elementos y pop() para eliminarlos\n",
        "mi_lista = [1, 2, 3]\n",
        "mi_lista.append(4)  # Añadimos el número 4\n",
        "print(mi_lista)\n",
        "\n",
        "mi_lista.pop()  # Eliminamos el último elemento\n",
        "print(mi_lista)\n"
      ]
    },
    {
      "cell_type": "code",
      "execution_count": null,
      "metadata": {
        "id": "4iMC2qPbe1_6"
      },
      "outputs": [],
      "source": [
        "# El método sort() ordena una lista en orden ascendente\n",
        "mi_lista = [4, 1, 3, 2]\n",
        "mi_lista.sort()\n",
        "print(mi_lista)  # [1, 2, 3, 4]\n"
      ]
    },
    {
      "cell_type": "code",
      "execution_count": null,
      "metadata": {
        "id": "sKB4VUXYe_JV"
      },
      "outputs": [],
      "source": [
        "# Las listas pueden contener otras listas, formando listas anidadas\n",
        "matriz = [[1, 2, 3], [4, 5, 6], [7, 8, 9]]\n",
        "print(matriz[0][1])  # 2 (segundo elemento de la primera fila)\n"
      ]
    }
  ],
  "metadata": {
    "colab": {
      "authorship_tag": "ABX9TyPjP7ShdxCul/FxzrJCFJST",
      "include_colab_link": true,
      "provenance": []
    },
    "kernelspec": {
      "display_name": ".venv",
      "language": "python",
      "name": "python3"
    },
    "language_info": {
      "codemirror_mode": {
        "name": "ipython",
        "version": 3
      },
      "file_extension": ".py",
      "mimetype": "text/x-python",
      "name": "python",
      "nbconvert_exporter": "python",
      "pygments_lexer": "ipython3",
      "version": "3.12.1"
    }
  },
  "nbformat": 4,
  "nbformat_minor": 0
}
