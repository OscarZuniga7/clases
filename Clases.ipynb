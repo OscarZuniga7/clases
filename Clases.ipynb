{
  "nbformat": 4,
  "nbformat_minor": 0,
  "metadata": {
    "colab": {
      "provenance": [],
      "authorship_tag": "ABX9TyPzefq0n0d6LPK8HnuijO9h",
      "include_colab_link": true
    },
    "kernelspec": {
      "name": "python3",
      "display_name": "Python 3"
    },
    "language_info": {
      "name": "python"
    }
  },
  "cells": [
    {
      "cell_type": "markdown",
      "metadata": {
        "id": "view-in-github",
        "colab_type": "text"
      },
      "source": [
        "<a href=\"https://colab.research.google.com/github/OscarZuniga7/clases/blob/main/Clases.ipynb\" target=\"_parent\"><img src=\"https://colab.research.google.com/assets/colab-badge.svg\" alt=\"Open In Colab\"/></a>"
      ]
    },
    {
      "cell_type": "code",
      "execution_count": null,
      "metadata": {
        "id": "6qQVcwPSawrc"
      },
      "outputs": [],
      "source": [
        "# Definimos una clase básica llamada \"Persona\" sin ningún atributo o método\n",
        "class Persona:\n",
        "    pass  # Usamos 'pass' porque no vamos a definir nada dentro por ahora\n",
        "\n",
        "# Creamos una instancia de la clase Persona\n",
        "persona1 = Persona()\n",
        "print(type(persona1))  # <class '__main__.Persona'>\n"
      ]
    },
    {
      "cell_type": "code",
      "source": [
        "# Ahora agregamos atributos a la clase Persona usando el método __init__\n",
        "class Persona:\n",
        "    def __init__(self, nombre, edad):\n",
        "        self.nombre = nombre\n",
        "        self.edad = edad\n",
        "\n",
        "# Creamos una instancia con los atributos nombre y edad\n",
        "persona1 = Persona(\"Ana\", 30)\n",
        "print(persona1.nombre)  # Ana\n",
        "print(persona1.edad)    # 30\n"
      ],
      "metadata": {
        "id": "vPkFYFtPa8aX"
      },
      "execution_count": null,
      "outputs": []
    },
    {
      "cell_type": "code",
      "source": [
        "# Agregamos un método a la clase para que la persona pueda presentarse\n",
        "class Persona:\n",
        "    def __init__(self, nombre, edad):\n",
        "        self.nombre = nombre\n",
        "        self.edad = edad\n",
        "\n",
        "    def presentarse(self):\n",
        "        return f\"Hola, me llamo {self.nombre} y tengo {self.edad} años.\"\n",
        "\n",
        "# Creamos una instancia y usamos el método\n",
        "persona1 = Persona(\"Carlos\", 25)\n",
        "print(persona1.presentarse())  # Hola, me llamo Carlos y tengo 25 años.\n"
      ],
      "metadata": {
        "id": "d9rB5XLibB0T"
      },
      "execution_count": null,
      "outputs": []
    },
    {
      "cell_type": "code",
      "source": [
        "# Añadimos un método que cambia el nombre de la persona\n",
        "class Persona:\n",
        "    def __init__(self, nombre, edad):\n",
        "        self.nombre = nombre\n",
        "        self.edad = edad\n",
        "\n",
        "    def cambiar_nombre(self, nuevo_nombre):\n",
        "        self.nombre = nuevo_nombre\n",
        "\n",
        "# Cambiamos el nombre de la persona\n",
        "persona1 = Persona(\"María\", 22)\n",
        "persona1.cambiar_nombre(\"Laura\")\n",
        "print(persona1.nombre)  # Laura\n"
      ],
      "metadata": {
        "id": "XW4OJsy2bJgo"
      },
      "execution_count": null,
      "outputs": []
    },
    {
      "cell_type": "code",
      "source": [
        "# Los atributos de clase son compartidos por todas las instancias de una clase\n",
        "class Persona:\n",
        "    tipo = \"Ser humano\"  # Este es un atributo de clase\n",
        "\n",
        "    def __init__(self, nombre, edad):\n",
        "        self.nombre = nombre\n",
        "        self.edad = edad\n",
        "\n",
        "# Creamos instancias y accedemos al atributo de clase\n",
        "persona1 = Persona(\"Ana\", 28)\n",
        "persona2 = Persona(\"Luis\", 35)\n",
        "print(persona1.tipo)  # Ser humano\n",
        "print(persona2.tipo)  # Ser humano\n"
      ],
      "metadata": {
        "id": "ncV6ly9FbRli"
      },
      "execution_count": null,
      "outputs": []
    },
    {
      "cell_type": "code",
      "source": [
        "# Los métodos de clase se definen con @classmethod y afectan a toda la clase\n",
        "class Persona:\n",
        "    contador = 0\n",
        "\n",
        "    def __init__(self, nombre):\n",
        "        self.nombre = nombre\n",
        "        Persona.contador += 1\n",
        "\n",
        "    @classmethod\n",
        "    def total_personas(cls):\n",
        "        return cls.contador\n",
        "\n",
        "# Creamos instancias y usamos el método de clase\n",
        "persona1 = Persona(\"Juan\")\n",
        "persona2 = Persona(\"Ana\")\n",
        "print(Persona.total_personas())  # 2\n"
      ],
      "metadata": {
        "id": "HbqKtnLmbwg7"
      },
      "execution_count": null,
      "outputs": []
    },
    {
      "cell_type": "code",
      "source": [
        "# Creamos una clase Estudiante que hereda de Persona\n",
        "class Persona:\n",
        "    def __init__(self, nombre, edad):\n",
        "        self.nombre = nombre\n",
        "        self.edad = edad\n",
        "\n",
        "class Estudiante(Persona):\n",
        "    def __init__(self, nombre, edad, carrera):\n",
        "        super().__init__(nombre, edad)\n",
        "        self.carrera = carrera\n",
        "\n",
        "# Creamos una instancia de Estudiante\n",
        "estudiante1 = Estudiante(\"Luis\", 20, \"Ingeniería\")\n",
        "print(estudiante1.nombre)   # Luis\n",
        "print(estudiante1.carrera)  # Ingeniería\n"
      ],
      "metadata": {
        "id": "MA1zDEVRb9BK"
      },
      "execution_count": null,
      "outputs": []
    },
    {
      "cell_type": "code",
      "source": [
        "# Podemos sobreescribir métodos en las clases derivadas\n",
        "class Persona:\n",
        "    def presentarse(self):\n",
        "        return \"Soy una persona.\"\n",
        "\n",
        "class Estudiante(Persona):\n",
        "    def presentarse(self):\n",
        "        return \"Soy un estudiante.\"\n",
        "\n",
        "# Creamos instancias y verificamos la sobreescritura\n",
        "persona1 = Persona()\n",
        "estudiante1 = Estudiante()\n",
        "print(persona1.presentarse())   # Soy una persona.\n",
        "print(estudiante1.presentarse())  # Soy un estudiante.\n"
      ],
      "metadata": {
        "id": "XNSNqRzscLeY"
      },
      "execution_count": null,
      "outputs": []
    },
    {
      "cell_type": "code",
      "source": [
        "# Creamos varias clases que interactúan entre sí\n",
        "class Libro:\n",
        "    def __init__(self, titulo):\n",
        "        self.titulo = titulo\n",
        "\n",
        "class Biblioteca:\n",
        "    def __init__(self):\n",
        "        self.libros = []\n",
        "\n",
        "    def agregar_libro(self, libro):\n",
        "        self.libros.append(libro)\n",
        "\n",
        "# Creamos libros y una biblioteca\n",
        "libro1 = Libro(\"Python para Todos\")\n",
        "libro2 = Libro(\"Aprende Java\")\n",
        "biblioteca = Biblioteca()\n",
        "biblioteca.agregar_libro(libro1)\n",
        "biblioteca.agregar_libro(libro2)\n",
        "\n",
        "# Mostramos los libros en la biblioteca\n",
        "for libro in biblioteca.libros:\n",
        "    print(libro.titulo)\n"
      ],
      "metadata": {
        "id": "2vAGaLkRcgYV"
      },
      "execution_count": null,
      "outputs": []
    },
    {
      "cell_type": "code",
      "source": [
        "# Los métodos estáticos no dependen de la instancia ni de la clase\n",
        "class Calculadora:\n",
        "    @staticmethod\n",
        "    def sumar(a, b):\n",
        "        return a + b\n",
        "\n",
        "# Usamos el método estático sin instanciar la clase\n",
        "resultado = Calculadora.sumar(5, 7)\n",
        "print(resultado)  # 12\n"
      ],
      "metadata": {
        "id": "cYm6An6PcuNj"
      },
      "execution_count": null,
      "outputs": []
    }
  ]
}